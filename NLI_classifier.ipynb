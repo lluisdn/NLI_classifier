{
  "nbformat": 4,
  "nbformat_minor": 0,
  "metadata": {
    "colab": {
      "provenance": []
    },
    "kernelspec": {
      "name": "python3",
      "display_name": "Python 3"
    },
    "language_info": {
      "name": "python"
    }
  },
  "cells": [
    {
      "cell_type": "code",
      "execution_count": 19,
      "metadata": {
        "id": "-1lYWiHRLDQT"
      },
      "outputs": [],
      "source": [
        "# CLAUSULAS SUELO\n",
        "correo1 = [\n",
        "    \"\"\"Estimados señores:\n",
        "\n",
        "    Me dirijo a ustedes como cliente de su entidad desde hace más de diez años. Tras revisar la información sobre mi préstamo hipotecario,\n",
        "    he detectado que en el contrato figura una cláusula suelo que ha limitado la bajada de intereses, a pesar de la evolución del Euríbor en los últimos años.\n",
        "\n",
        "    Solicito, por tanto, que se me informe detalladamente sobre la existencia de dicha cláusula, así como las medidas que su entidad tiene previstas para proceder a la devolución de las cantidades cobradas de más.\n",
        "\n",
        "    Quedo a la espera de su pronta respuesta.\n",
        "    \"\"\"]\n",
        "\n",
        "# COSTES HIPOTECA\n",
        "correo2 = [\n",
        "\n",
        "    \"\"\"Buenos días:\n",
        "\n",
        "    Me pongo en contacto con ustedes para presentar una reclamación relativa a los gastos de constitución de mi hipoteca formalizada en el año 2015.\n",
        "    Según recientes sentencias judiciales, entiendo que determinados costes como la notaría, el registro de la propiedad y la gestoría no debieron ser asumidos íntegramente por mí.\n",
        "\n",
        "    Solicito que se revise mi expediente y se me reintegren los importes correspondientes, junto con los intereses que legalmente procedan.\n",
        "    \"\"\"]\n",
        "\n",
        "# FRAUDE BANCARIO\n",
        "correo3 =[\n",
        "\n",
        "    \"\"\"Estimados,\n",
        "\n",
        "    Hoy he detectado varios cargos en mi cuenta corriente que no reconozco ni he autorizado. Se trata de tres movimientos realizados entre los días 14 y 16 de junio,\n",
        "    con importes superiores a los 300 euros cada uno. Ya he procedido a bloquear mi tarjeta, pero me preocupa que se haya producido un acceso fraudulento a mi cuenta.\n",
        "\n",
        "    Les ruego que inicien una investigación de inmediato y me informen sobre los pasos a seguir para la recuperación de los importes sustraídos.\n",
        "    \"\"\"\n",
        "]\n",
        "\n",
        "# Etiquetas posibles (temáticas)\n",
        "categorias = [\n",
        "    \"Cláusula suelo\",\n",
        "    \"Costes hipotecarios\",\n",
        "    \"Fraude bancario\",\n",
        "    \"Tarjetas de crédito o débito\",\n",
        "    \"Comisiones bancarias\",\n",
        "    \"Problemas con transferencias\",\n",
        "    \"Solicitud de cancelación de cuenta\",\n",
        "    \"Errores en recibos domiciliados\",\n",
        "    \"Actualización de datos personales\",\n",
        "    \"Otros\"\n",
        "]"
      ]
    },
    {
      "cell_type": "markdown",
      "source": [
        "# PRUEBA 1"
      ],
      "metadata": {
        "id": "_v0vuz6AS1ov"
      }
    },
    {
      "cell_type": "code",
      "source": [
        "import torch\n",
        "import pandas as pd\n",
        "from transformers import AutoTokenizer, AutoModelForSequenceClassification\n",
        "\n",
        "MODEL_NAME = \"roberta-large-mnli\"\n",
        "device     = \"cuda\" if torch.cuda.is_available() else \"cpu\"\n",
        "template   = \"Este correo trata sobre {}.\"\n",
        "\n",
        "\n",
        "tokenizer = AutoTokenizer.from_pretrained(MODEL_NAME)\n",
        "model     = AutoModelForSequenceClassification.from_pretrained(MODEL_NAME).to(device)\n",
        "model.eval()\n",
        "\n",
        "def prob_entailment(premise: str, hypothesis: str) -> float:\n",
        "    \"\"\"Devuelve la probabilidad (entre 0-1) de que el modelo NLI\n",
        "       considere que la premisa implica la hipótesis.\"\"\"\n",
        "    inputs = tokenizer.encode_plus(premise,\n",
        "                                   hypothesis,\n",
        "                                   return_tensors=\"pt\",\n",
        "                                   truncation=True,\n",
        "                                   max_length=512).to(device)\n",
        "    with torch.no_grad():\n",
        "        logits = model(**inputs).logits.squeeze()          # [contradiction, neutral, entailment]\n",
        "    probs  = torch.softmax(logits, dim=-1).cpu().numpy()\n",
        "    return float(probs[2])    #\n",
        "\n",
        "\n",
        "correos_dict = {\"Correo 1\": correo1, \"Correo 2\": correo2, \"Correo 3\": correo3}\n",
        "matriz = {}\n",
        "\n",
        "for nombre, lista in correos_dict.items():\n",
        "    texto = \"\\n\\n\".join(lista)\n",
        "    fila  = {}\n",
        "    for cat in categorias:\n",
        "        hypothesis = template.format(cat)\n",
        "        p_entail   = prob_entailment(texto, hypothesis)\n",
        "        fila[cat]  = round(p_entail, 4)\n",
        "    matriz[nombre] = fila\n",
        "\n",
        "df = pd.DataFrame(matriz).T      # filas = correos, columnas = categorías\n",
        "print(df)"
      ],
      "metadata": {
        "colab": {
          "base_uri": "https://localhost:8080/"
        },
        "id": "TtqR1DONNH9M",
        "outputId": "a93309b5-a61a-4193-9e6c-3a5462114f62"
      },
      "execution_count": 18,
      "outputs": [
        {
          "output_type": "stream",
          "name": "stderr",
          "text": [
            "Some weights of the model checkpoint at roberta-large-mnli were not used when initializing RobertaForSequenceClassification: ['roberta.pooler.dense.bias', 'roberta.pooler.dense.weight']\n",
            "- This IS expected if you are initializing RobertaForSequenceClassification from the checkpoint of a model trained on another task or with another architecture (e.g. initializing a BertForSequenceClassification model from a BertForPreTraining model).\n",
            "- This IS NOT expected if you are initializing RobertaForSequenceClassification from the checkpoint of a model that you expect to be exactly identical (initializing a BertForSequenceClassification model from a BertForSequenceClassification model).\n"
          ]
        },
        {
          "output_type": "stream",
          "name": "stdout",
          "text": [
            "          Cláusula suelo  Costes hipotecarios  Fraude bancario  \\\n",
            "Correo 1          0.8417               0.5285           0.1009   \n",
            "Correo 2          0.0748               0.6377           0.0503   \n",
            "Correo 3          0.0549               0.1999           0.0367   \n",
            "\n",
            "          Tarjetas de crédito o débito  Comisiones bancarias  \\\n",
            "Correo 1                        0.2139                0.0994   \n",
            "Correo 2                        0.2679                0.0705   \n",
            "Correo 3                        0.1044                0.0605   \n",
            "\n",
            "          Problemas con transferencias  Solicitud de cancelación de cuenta  \\\n",
            "Correo 1                        0.2318                              0.3543   \n",
            "Correo 2                        0.5364                              0.3913   \n",
            "Correo 3                        0.2882                              0.2329   \n",
            "\n",
            "          Errores en recibos domiciliados  Actualización de datos personales  \\\n",
            "Correo 1                           0.2801                             0.4217   \n",
            "Correo 2                           0.3671                             0.4494   \n",
            "Correo 3                           0.4524                             0.5269   \n",
            "\n",
            "           Otros  \n",
            "Correo 1  0.2705  \n",
            "Correo 2  0.2792  \n",
            "Correo 3  0.2238  \n"
          ]
        }
      ]
    },
    {
      "cell_type": "code",
      "source": [
        "categoria_predicha = df.idxmax(axis=1)\n",
        "score_max          = df.max(axis=1)\n",
        "categoria_real     = [\"Cláusula suelo\", \"Costes hipotecarios\", \"Fraude bancario\"]\n",
        "\n",
        "df_pred = pd.DataFrame({\n",
        "    \"Categoria_predicha\": categoria_predicha,\n",
        "    \"Score_max\": score_max.round(4),\n",
        "    \"Categoria_real\": categoria_real\n",
        "})\n",
        "\n",
        "print(df_pred)"
      ],
      "metadata": {
        "colab": {
          "base_uri": "https://localhost:8080/"
        },
        "id": "sYZm-_XMPzpa",
        "outputId": "07aab2d7-f549-4b91-eb9f-c9f949a3de78"
      },
      "execution_count": 20,
      "outputs": [
        {
          "output_type": "stream",
          "name": "stdout",
          "text": [
            "                         Categoria_predicha  Score_max       Categoria_real\n",
            "Correo 1                     Cláusula suelo     0.8417       Cláusula suelo\n",
            "Correo 2                Costes hipotecarios     0.6377  Costes hipotecarios\n",
            "Correo 3  Actualización de datos personales     0.5269      Fraude bancario\n"
          ]
        }
      ]
    },
    {
      "cell_type": "markdown",
      "source": [
        "# PRUEBA 2"
      ],
      "metadata": {
        "id": "bzMcP4GhSygB"
      }
    },
    {
      "cell_type": "code",
      "source": [
        "def prob_entailment_sep(premise: str, hypothesis: str) -> float:\n",
        "    sep_token = tokenizer.sep_token\n",
        "    joint_text = f\"{premise} {sep_token} {hypothesis}\"\n",
        "\n",
        "    inputs = tokenizer(\n",
        "        joint_text,\n",
        "        return_tensors=\"pt\",\n",
        "        truncation=True,\n",
        "        max_length=512\n",
        "    ).to(device)\n",
        "\n",
        "    with torch.no_grad():\n",
        "        logits = model(**inputs).logits.squeeze()\n",
        "    probs = torch.softmax(logits, dim=-1).cpu().numpy()  # [contradiction, neutral, entailment]\n",
        "    return float(probs[2])"
      ],
      "metadata": {
        "id": "wz_KXo19SyEF"
      },
      "execution_count": 21,
      "outputs": []
    },
    {
      "cell_type": "code",
      "source": [
        "df_probs = {}\n",
        "\n",
        "for nombre, lista in correos_dict.items():\n",
        "    premise = \"\\n\\n\".join(lista)\n",
        "    fila = {}\n",
        "    for cat in categorias:\n",
        "        hyp = template.format(cat)\n",
        "        fila[cat] = round(prob_entailment_sep(premise, hyp), 4)\n",
        "    df_probs[nombre] = fila\n",
        "\n",
        "df_probs = pd.DataFrame(df_probs).T\n",
        "print(\"Matriz de probabilidades:\")\n",
        "print(df_probs)"
      ],
      "metadata": {
        "colab": {
          "base_uri": "https://localhost:8080/"
        },
        "id": "NugK39qXS-xV",
        "outputId": "1bb36833-bbab-47d9-d5e9-cb5e499b9966"
      },
      "execution_count": 22,
      "outputs": [
        {
          "output_type": "stream",
          "name": "stdout",
          "text": [
            "Matriz de probabilidades:\n",
            "          Cláusula suelo  Costes hipotecarios  Fraude bancario  \\\n",
            "Correo 1          0.8044               0.5139           0.1076   \n",
            "Correo 2          0.0838               0.5944           0.0709   \n",
            "Correo 3          0.0492               0.1760           0.0414   \n",
            "\n",
            "          Tarjetas de crédito o débito  Comisiones bancarias  \\\n",
            "Correo 1                        0.2245                0.1040   \n",
            "Correo 2                        0.2337                0.0936   \n",
            "Correo 3                        0.1157                0.0638   \n",
            "\n",
            "          Problemas con transferencias  Solicitud de cancelación de cuenta  \\\n",
            "Correo 1                        0.2404                              0.3497   \n",
            "Correo 2                        0.4538                              0.3798   \n",
            "Correo 3                        0.2332                              0.2058   \n",
            "\n",
            "          Errores en recibos domiciliados  Actualización de datos personales  \\\n",
            "Correo 1                           0.2851                             0.4173   \n",
            "Correo 2                           0.3443                             0.3979   \n",
            "Correo 3                           0.3391                             0.4583   \n",
            "\n",
            "           Otros  \n",
            "Correo 1  0.2565  \n",
            "Correo 2  0.2429  \n",
            "Correo 3  0.2070  \n"
          ]
        }
      ]
    },
    {
      "cell_type": "code",
      "source": [
        "df_final = pd.DataFrame({\n",
        "    \"Categoria_predicha\": df_probs.idxmax(axis=1),\n",
        "    \"Score_max\":          df_probs.max(axis=1).round(4),\n",
        "    \"Categoria_real\": categoria_real\n",
        "})\n",
        "print(\"Output definitivo:\")\n",
        "print(df_final)"
      ],
      "metadata": {
        "colab": {
          "base_uri": "https://localhost:8080/"
        },
        "id": "x7NpW8_jTnln",
        "outputId": "8d8cd148-e744-4164-db58-148d6ebd31c9"
      },
      "execution_count": 23,
      "outputs": [
        {
          "output_type": "stream",
          "name": "stdout",
          "text": [
            "Output definitivo:\n",
            "                         Categoria_predicha  Score_max       Categoria_real\n",
            "Correo 1                     Cláusula suelo     0.8044       Cláusula suelo\n",
            "Correo 2                Costes hipotecarios     0.5944  Costes hipotecarios\n",
            "Correo 3  Actualización de datos personales     0.4583      Fraude bancario\n"
          ]
        }
      ]
    }
  ]
}